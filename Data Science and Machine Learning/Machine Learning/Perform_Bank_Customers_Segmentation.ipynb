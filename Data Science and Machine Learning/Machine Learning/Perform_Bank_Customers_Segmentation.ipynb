{
  "nbformat": 4,
  "nbformat_minor": 0,
  "metadata": {
    "colab": {
      "provenance": []
    },
    "kernelspec": {
      "name": "python3",
      "display_name": "Python 3"
    }
  },
  "cells": [
    {
      "cell_type": "markdown",
      "metadata": {
        "id": "M27qF7CTrBqc"
      },
      "source": [
        "# TASK #1: UNDERSTAND THE PROBLEM STATEMENT AND BUSINESS CASE"
      ]
    },
    {
      "cell_type": "markdown",
      "metadata": {
        "id": "vWfXjUMslMbQ"
      },
      "source": [
        "![alt text](https://drive.google.com/uc?id=1r1FjdO8duujUoI904Oy4vbza6KktxSXo)"
      ]
    },
    {
      "cell_type": "markdown",
      "metadata": {
        "id": "zKmFmyaGunc7"
      },
      "source": [
        "# TASK #2: IMPORT LIBRARIES AND DATASETS"
      ]
    },
    {
      "cell_type": "code",
      "metadata": {
        "id": "S0Cx3743urFY",
        "colab": {
          "base_uri": "https://localhost:8080/",
          "height": 72
        },
        "outputId": "47cbe3c1-a14d-46a8-ee5d-47d55ad5ba15"
      },
      "source": [
        "import pandas as pd\n",
        "import numpy as np\n",
        "import seaborn as sns\n",
        "import matplotlib.pyplot as plt\n",
        "from sklearn.preprocessing import StandardScaler, normalize\n",
        "from sklearn.cluster import KMeans\n",
        "from sklearn.decomposition import PCA\n"
      ],
      "execution_count": null,
      "outputs": [
        {
          "output_type": "stream",
          "text": [
            "/usr/local/lib/python3.6/dist-packages/statsmodels/tools/_testing.py:19: FutureWarning: pandas.util.testing is deprecated. Use the functions in the public API at pandas.testing instead.\n",
            "  import pandas.util.testing as tm\n"
          ],
          "name": "stderr"
        }
      ]
    },
    {
      "cell_type": "code",
      "metadata": {
        "id": "5P_ciLXawMZg"
      },
      "source": [
        "# You will need to mount your drive using the following commands:\n",
        "# For more information regarding mounting, please check this out: https://stackoverflow.com/questions/46986398/import-data-into-google-colaboratory\n",
        "\n",
        "from google.colab import drive\n",
        "drive.mount('/content/drive')"
      ],
      "execution_count": null,
      "outputs": []
    },
    {
      "cell_type": "code",
      "metadata": {
        "id": "tjIiJdM4u1IE"
      },
      "source": [
        "# You have to include the full link to the csv file containing your dataset\n",
        "creditcard_df = pd.read_csv('/content/drive/My Drive/Colab Notebooks/Data Science for Business/4. Marketing Department/4. Marketing_data.csv')\n",
        "\n",
        "# CUSTID: Identification of Credit Card holder\n",
        "# BALANCE: Balance amount left in customer's account to make purchases\n",
        "# BALANCE_FREQUENCY: How frequently the Balance is updated, score between 0 and 1 (1 = frequently updated, 0 = not frequently updated)\n",
        "# PURCHASES: Amount of purchases made from account\n",
        "# ONEOFFPURCHASES: Maximum purchase amount done in one-go\n",
        "# INSTALLMENTS_PURCHASES: Amount of purchase done in installment\n",
        "# CASH_ADVANCE: Cash in advance given by the user\n",
        "# PURCHASES_FREQUENCY: How frequently the Purchases are being made, score between 0 and 1 (1 = frequently purchased, 0 = not frequently purchased)\n",
        "# ONEOFF_PURCHASES_FREQUENCY: How frequently Purchases are happening in one-go (1 = frequently purchased, 0 = not frequently purchased)\n",
        "# PURCHASES_INSTALLMENTS_FREQUENCY: How frequently purchases in installments are being done (1 = frequently done, 0 = not frequently done)\n",
        "# CASH_ADVANCE_FREQUENCY: How frequently the cash in advance being paid\n",
        "# CASH_ADVANCE_TRX: Number of Transactions made with \"Cash in Advance\"\n",
        "# PURCHASES_TRX: Number of purchase transactions made\n",
        "# CREDIT_LIMIT: Limit of Credit Card for user\n",
        "# PAYMENTS: Amount of Payment done by user\n",
        "# MINIMUM_PAYMENTS: Minimum amount of payments made by user\n",
        "# PRC_FULL_PAYMENT: Percent of full payment paid by user\n",
        "# TENURE: Tenure of credit card service for user"
      ],
      "execution_count": null,
      "outputs": []
    },
    {
      "cell_type": "code",
      "metadata": {
        "id": "q4_wPDKCu5Uc"
      },
      "source": [
        "creditcard_df"
      ],
      "execution_count": null,
      "outputs": []
    },
    {
      "cell_type": "code",
      "metadata": {
        "id": "hMq3-KWOx0e1"
      },
      "source": [
        "creditcard_df.info()\n",
        "# 18 features with 8950 points"
      ],
      "execution_count": null,
      "outputs": []
    },
    {
      "cell_type": "code",
      "metadata": {
        "id": "s0E9xPLdx2Ok"
      },
      "source": [
        "creditcard_df.describe()\n",
        "# Mean balance is $1564\n",
        "# Balance frequency is frequently updated on average ~0.9\n",
        "# Purchases average is $1000\n",
        "# one off purchase average is ~$600\n",
        "# Average purchases frequency is around 0.5\n",
        "# average ONEOFF_PURCHASES_FREQUENCY, PURCHASES_INSTALLMENTS_FREQUENCY, and CASH_ADVANCE_FREQUENCY are generally low\n",
        "# Average credit limit ~ 4500\n",
        "# Percent of full payment is 15%\n",
        "# Average tenure is 11 years"
      ],
      "execution_count": null,
      "outputs": []
    },
    {
      "cell_type": "code",
      "metadata": {
        "id": "MA5bKvr7KxI8"
      },
      "source": [
        "# Let's see who made one off purchase of $40761!\n",
        "creditcard_df[creditcard_df['ONEOFF_PURCHASES'] == 40761.25]\n"
      ],
      "execution_count": null,
      "outputs": []
    },
    {
      "cell_type": "code",
      "metadata": {
        "id": "RBiutRGLL9HH"
      },
      "source": [
        "creditcard_df['CASH_ADVANCE'].max()"
      ],
      "execution_count": null,
      "outputs": []
    },
    {
      "cell_type": "code",
      "metadata": {
        "id": "FAIfPnCLLnjw"
      },
      "source": [
        "# Let's see who made cash advance of $47137!\n",
        "# This customer made 123 cash advance transactions!!\n",
        "# Never paid credit card in full\n",
        "\n",
        "creditcard_df[creditcard_df['CASH_ADVANCE'] == 47137.211760000006]\n"
      ],
      "execution_count": null,
      "outputs": []
    },
    {
      "cell_type": "markdown",
      "metadata": {
        "id": "LlszUhNNyrl_"
      },
      "source": [
        "# TASK #3: VISUALIZE AND EXPLORE DATASET"
      ]
    },
    {
      "cell_type": "code",
      "metadata": {
        "id": "ICj3NLbqqmve"
      },
      "source": [
        "# Let's see if we have any missing data, luckily we don't!\n",
        " sns.heatmap(creditcard_df.isnull(), yticklabels = False, cbar = False, cmap=\"Blues\")\n"
      ],
      "execution_count": null,
      "outputs": []
    },
    {
      "cell_type": "code",
      "metadata": {
        "id": "70XopgWwMmHG"
      },
      "source": [
        "creditcard_df.isnull().sum()"
      ],
      "execution_count": null,
      "outputs": []
    },
    {
      "cell_type": "code",
      "metadata": {
        "id": "wboxbIPwT7Wi"
      },
      "source": [
        "# Fill up the missing elements with mean of the 'MINIMUM_PAYMENT'\n",
        "creditcard_df.loc[(creditcard_df['MINIMUM_PAYMENTS'].isnull() == True), 'MINIMUM_PAYMENTS'] = creditcard_df['MINIMUM_PAYMENTS'].mean()\n"
      ],
      "execution_count": null,
      "outputs": []
    },
    {
      "cell_type": "code",
      "metadata": {
        "id": "ciOq-cYxMw8P"
      },
      "source": [
        "# Fill up the missing elements with mean of the 'CREDIT_LIMIT'\n",
        "creditcard_df.loc[(creditcard_df['CREDIT_LIMIT'].isnull() == True), 'CREDIT_LIMIT'] = creditcard_df['CREDIT_LIMIT'].mean()"
      ],
      "execution_count": null,
      "outputs": []
    },
    {
      "cell_type": "code",
      "metadata": {
        "id": "H-c9kqOSUU1t"
      },
      "source": [
        " sns.heatmap(creditcard_df.isnull(), yticklabels = False, cbar = False, cmap=\"Blues\")"
      ],
      "execution_count": null,
      "outputs": []
    },
    {
      "cell_type": "code",
      "metadata": {
        "id": "zFIXGFrucdCl"
      },
      "source": [
        "# Let's see if we have duplicated entries in the data\n",
        "creditcard_df.duplicated().sum()"
      ],
      "execution_count": null,
      "outputs": []
    },
    {
      "cell_type": "code",
      "metadata": {
        "id": "onSLJRBtcohW"
      },
      "source": [
        "# Let's drop Customer ID since it has no meaning here\n",
        "creditcard_df.drop(\"CUST_ID\", axis = 1, inplace= True)"
      ],
      "execution_count": null,
      "outputs": []
    },
    {
      "cell_type": "code",
      "metadata": {
        "id": "PSzpvJgWcxnu"
      },
      "source": [
        "creditcard_df.head()"
      ],
      "execution_count": null,
      "outputs": []
    },
    {
      "cell_type": "code",
      "metadata": {
        "id": "QIw-jGI9NOCg"
      },
      "source": [
        "n = len(creditcard_df.columns)\n",
        "n"
      ],
      "execution_count": null,
      "outputs": []
    },
    {
      "cell_type": "code",
      "metadata": {
        "id": "fIOb3930ONKS"
      },
      "source": [
        "creditcard_df.columns"
      ],
      "execution_count": null,
      "outputs": []
    },
    {
      "cell_type": "code",
      "metadata": {
        "id": "rFmjikf6ONgu"
      },
      "source": [
        "# distplot combines the matplotlib.hist function with seaborn kdeplot()\n",
        "# KDE Plot represents the Kernel Density Estimate\n",
        "# KDE is used for visualizing the Probability Density of a continuous variable.\n",
        "# KDE demonstrates the probability density at different values in a continuous variable.\n",
        "\n",
        "# Mean of balance is $1500\n",
        "# 'Balance_Frequency' for most customers is updated frequently ~1\n",
        "# For 'PURCHASES_FREQUENCY', there are two distinct group of customers\n",
        "# For 'ONEOFF_PURCHASES_FREQUENCY' and 'PURCHASES_INSTALLMENT_FREQUENCY' most users don't do one off puchases or installment purchases frequently\n",
        "# Very small number of customers pay their balance in full 'PRC_FULL_PAYMENT'~0\n",
        "# Credit limit average is around $4500\n",
        "# Most customers are ~11 years tenure\n",
        "\n",
        "plt.figure(figsize=(10,50))\n",
        "for i in range(len(creditcard_df.columns)):\n",
        "  plt.subplot(17, 1, i+1)\n",
        "  sns.distplot(creditcard_df[creditcard_df.columns[i]], kde_kws={\"color\": \"b\", \"lw\": 3, \"label\": \"KDE\"}, hist_kws={\"color\": \"g\"})\n",
        "  plt.title(creditcard_df.columns[i])\n",
        "\n",
        "plt.tight_layout()"
      ],
      "execution_count": null,
      "outputs": []
    },
    {
      "cell_type": "code",
      "metadata": {
        "id": "bnGS8pC1UsN9"
      },
      "source": [
        "# sns.pairplot(creditcard_df)\n",
        "# Correlation between 'PURCHASES' and ONEOFF_PURCHASES & INSTALMENT_PURCHASES\n",
        "# Trend between 'PURCHASES' and 'CREDIT_LIMIT' & 'PAYMENTS'\n"
      ],
      "execution_count": null,
      "outputs": []
    },
    {
      "cell_type": "code",
      "metadata": {
        "id": "c6UiAqTkKD85"
      },
      "source": [
        "correlations = creditcard_df.corr()\n"
      ],
      "execution_count": null,
      "outputs": []
    },
    {
      "cell_type": "code",
      "metadata": {
        "id": "zBy4m89a08Sj"
      },
      "source": [
        "f, ax = plt.subplots(figsize = (20, 20))\n",
        "sns.heatmap(correlations, annot = True)\n",
        "\n",
        "# 'PURCHASES' have high correlation between one-off purchases, 'installment purchases, purchase transactions, credit limit and payments.\n",
        "# Strong Positive Correlation between 'PURCHASES_FREQUENCY' and 'PURCHASES_INSTALLMENT_FREQUENCY'\n"
      ],
      "execution_count": null,
      "outputs": []
    },
    {
      "cell_type": "markdown",
      "metadata": {
        "id": "Y0GmpAjG3GiH"
      },
      "source": [
        "# TASK #4: FIND THE OPTIMAL NUMBER OF CLUSTERS USING ELBOW METHOD"
      ]
    },
    {
      "cell_type": "code",
      "metadata": {
        "id": "axr926Btjyux"
      },
      "source": [
        "# Let's scale the data first\n",
        "scaler = StandardScaler()\n",
        "creditcard_df_scaled = scaler.fit_transform(creditcard_df)"
      ],
      "execution_count": null,
      "outputs": []
    },
    {
      "cell_type": "code",
      "metadata": {
        "id": "9CJeasg4kHyP"
      },
      "source": [
        "creditcard_df_scaled.shape"
      ],
      "execution_count": null,
      "outputs": []
    },
    {
      "cell_type": "code",
      "metadata": {
        "id": "FK5ggiVPsJE9"
      },
      "source": [
        "creditcard_df_scaled"
      ],
      "execution_count": null,
      "outputs": []
    },
    {
      "cell_type": "code",
      "metadata": {
        "id": "1_nb-D8H3cK-"
      },
      "source": [
        "scores_1 = []\n",
        "\n",
        "range_values = range(1, 20)\n",
        "\n",
        "for i in range_values:\n",
        "  kmeans = KMeans(n_clusters = i)\n",
        "  kmeans.fit(creditcard_df_scaled)\n",
        "  scores_1.append(kmeans.inertia_)\n",
        "\n",
        "plt.plot(scores_1, 'bx-')\n",
        "plt.title('Finding the right number of clusters')\n",
        "plt.xlabel('Clusters')\n",
        "plt.ylabel('Scores')\n",
        "plt.show()\n",
        "\n",
        "# From this we can observe that, 4th cluster seems to be forming the elbow of the curve.\n",
        "# However, the values does not reduce linearly until 8th cluster.\n",
        "# Let's choose the number of clusters to be 7."
      ],
      "execution_count": null,
      "outputs": []
    },
    {
      "cell_type": "markdown",
      "metadata": {
        "id": "m_jo7mJ4C8R9"
      },
      "source": [
        "# TASK #5: APPLY K-MEANS METHOD"
      ]
    },
    {
      "cell_type": "code",
      "metadata": {
        "id": "qwzY8rj0uV-a"
      },
      "source": [
        "kmeans = KMeans(8)\n",
        "kmeans.fit(creditcard_df_scaled)\n",
        "labels = kmeans.labels_"
      ],
      "execution_count": null,
      "outputs": []
    },
    {
      "cell_type": "code",
      "metadata": {
        "id": "dShNNvg09zH3"
      },
      "source": [
        "kmeans.cluster_centers_.shape"
      ],
      "execution_count": null,
      "outputs": []
    },
    {
      "cell_type": "code",
      "metadata": {
        "id": "VEiPOUJv9iFK"
      },
      "source": [
        "\n",
        "cluster_centers = pd.DataFrame(data = kmeans.cluster_centers_, columns = [creditcard_df.columns])\n",
        "cluster_centers"
      ],
      "execution_count": null,
      "outputs": []
    },
    {
      "cell_type": "code",
      "metadata": {
        "id": "9ogiZbsGBBl8"
      },
      "source": [
        "# In order to understand what these numbers mean, let's perform inverse transformation\n",
        "cluster_centers = scaler.inverse_transform(cluster_centers)\n",
        "cluster_centers = pd.DataFrame(data = cluster_centers, columns = [creditcard_df.columns])\n",
        "cluster_centers\n",
        "\n",
        "# First Customers cluster (Transactors): Those are customers who pay least amount of intrerest charges and careful with their money, Cluster with lowest balance ($104) and cash advance ($303), Percentage of full payment = 23%\n",
        "# Second customers cluster (revolvers) who use credit card as a loan (most lucrative sector): highest balance ($5000) and cash advance (~$5000), low purchase frequency, high cash advance frequency (0.5), high cash advance transactions (16) and low percentage of full payment (3%)\n",
        "# Third customer cluster (VIP/Prime): high credit limit $16K and highest percentage of full payment, target for increase credit limit and increase spending habits\n",
        "# Fourth customer cluster (low tenure): these are customers with low tenure (7 years), low balance\n"
      ],
      "execution_count": null,
      "outputs": []
    },
    {
      "cell_type": "code",
      "metadata": {
        "id": "kCuHRqBIusm7"
      },
      "source": [
        "labels.shape # Labels associated to each data point"
      ],
      "execution_count": null,
      "outputs": []
    },
    {
      "cell_type": "code",
      "metadata": {
        "id": "Ywcls4cvu2lh"
      },
      "source": [
        "labels.max()"
      ],
      "execution_count": null,
      "outputs": []
    },
    {
      "cell_type": "code",
      "metadata": {
        "id": "NPQIMB7Fu9f3"
      },
      "source": [
        "labels.min()"
      ],
      "execution_count": null,
      "outputs": []
    },
    {
      "cell_type": "code",
      "metadata": {
        "id": "kgLSvv-6vHSs"
      },
      "source": [
        "y_kmeans = kmeans.fit_predict(creditcard_df_scaled)\n",
        "y_kmeans\n"
      ],
      "execution_count": null,
      "outputs": []
    },
    {
      "cell_type": "code",
      "metadata": {
        "id": "OfMaZqUOqdJB"
      },
      "source": [
        "# concatenate the clusters labels to our original dataframe\n",
        "creditcard_df_cluster = pd.concat([creditcard_df, pd.DataFrame({'cluster':labels})], axis = 1)\n",
        "creditcard_df_cluster.head()"
      ],
      "execution_count": null,
      "outputs": []
    },
    {
      "cell_type": "code",
      "metadata": {
        "id": "TYEhR6rvqwda"
      },
      "source": [
        "# Plot the histogram of various clusters\n",
        "for i in creditcard_df.columns:\n",
        "  plt.figure(figsize = (35, 5))\n",
        "  for j in range(8):\n",
        "    plt.subplot(1,8,j+1)\n",
        "    cluster = creditcard_df_cluster[creditcard_df_cluster['cluster'] == j]\n",
        "    cluster[i].hist(bins = 20)\n",
        "    plt.title('{}    \\nCluster {} '.format(i,j))\n",
        "\n",
        "  plt.show()\n",
        "\n"
      ],
      "execution_count": null,
      "outputs": []
    },
    {
      "cell_type": "markdown",
      "metadata": {
        "id": "UVTd7FYLNCAE"
      },
      "source": [
        "# TASK 6: APPLY PRINCIPAL COMPONENT ANALYSIS AND VISUALIZE THE RESULTS"
      ]
    },
    {
      "cell_type": "code",
      "metadata": {
        "id": "RgFq3h993cIz"
      },
      "source": [
        "# Obtain the principal components\n",
        "pca = PCA(n_components=2)\n",
        "principal_comp = pca.fit_transform(creditcard_df_scaled)\n",
        "principal_comp"
      ],
      "execution_count": null,
      "outputs": []
    },
    {
      "cell_type": "code",
      "metadata": {
        "id": "ad3UQtPU0eHK"
      },
      "source": [
        "# Create a dataframe with the two components\n",
        "pca_df = pd.DataFrame(data = principal_comp, columns =['pca1','pca2'])\n",
        "pca_df.head()"
      ],
      "execution_count": null,
      "outputs": []
    },
    {
      "cell_type": "code",
      "metadata": {
        "id": "q7gsGkEZvkYd"
      },
      "source": [
        "# Concatenate the clusters labels to the dataframe\n",
        "pca_df = pd.concat([pca_df,pd.DataFrame({'cluster':labels})], axis = 1)\n",
        "pca_df.head()"
      ],
      "execution_count": null,
      "outputs": []
    },
    {
      "cell_type": "code",
      "metadata": {
        "id": "4KYt5SUrvneq"
      },
      "source": [
        "plt.figure(figsize=(10,10))\n",
        "ax = sns.scatterplot(x=\"pca1\", y=\"pca2\", hue = \"cluster\", data = pca_df, palette =['red','green','blue','pink','yellow','gray','purple', 'black'])\n",
        "plt.show()"
      ],
      "execution_count": null,
      "outputs": []
    }
  ]
}
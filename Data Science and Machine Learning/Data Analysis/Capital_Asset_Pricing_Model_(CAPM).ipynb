{
  "nbformat": 4,
  "nbformat_minor": 0,
  "metadata": {
    "colab": {
      "provenance": []
    },
    "kernelspec": {
      "name": "python3",
      "display_name": "Python 3"
    }
  },
  "cells": [
    {
      "cell_type": "markdown",
      "metadata": {
        "id": "ltpfSDVCRbRX"
      },
      "source": [
        "#TASK #1: UNDERSTAND THE THEORY AND INTUITION BEHIND CAPITAL ASSET PRICING MODEL (CAPM)"
      ]
    },
    {
      "cell_type": "markdown",
      "metadata": {
        "id": "N6QKNsYZ5LVy"
      },
      "source": [
        "![alt text](https://drive.google.com/uc?id=1rGljEUj4EEwo4Y9vzuXjM2le_tGC1NFy)"
      ]
    },
    {
      "cell_type": "markdown",
      "metadata": {
        "id": "iTzaJ42P5L7b"
      },
      "source": [
        "![alt text](https://drive.google.com/uc?id=1j8HYfvy6Gn0v3a8z5cnuL4p-CvcVa8Va)"
      ]
    },
    {
      "cell_type": "markdown",
      "metadata": {
        "id": "_OtNKjlXS5YR"
      },
      "source": [
        "# TASK #2: IMPORT LIBRARIES/DATASETS AND VISUALIZE STOCKS DATA"
      ]
    },
    {
      "cell_type": "code",
      "metadata": {
        "id": "4j9CzvYyRjq3",
        "colab": {
          "base_uri": "https://localhost:8080/",
          "height": 35
        },
        "outputId": "344c6ab2-b71a-467d-a2d9-ccf2312f90dc"
      },
      "source": [
        "from google.colab import drive\n",
        "drive.mount('/content/drive')"
      ],
      "execution_count": null,
      "outputs": [
        {
          "output_type": "stream",
          "text": [
            "Drive already mounted at /content/drive; to attempt to forcibly remount, call drive.mount(\"/content/drive\", force_remount=True).\n"
          ],
          "name": "stdout"
        }
      ]
    },
    {
      "cell_type": "code",
      "metadata": {
        "id": "TMxtZdEjRjoc",
        "colab": {
          "base_uri": "https://localhost:8080/",
          "height": 87
        },
        "outputId": "d94b2db6-ceeb-461d-c6e8-e9068cb5bd94"
      },
      "source": [
        "import pandas as pd\n",
        "import seaborn as sns\n",
        "import plotly.express as px\n",
        "from copy import copy\n",
        "from scipy import stats\n",
        "import matplotlib.pyplot as plt\n",
        "import numpy as np\n",
        "import plotly.figure_factory as ff\n",
        "import plotly.graph_objects as go"
      ],
      "execution_count": null,
      "outputs": [
        {
          "output_type": "stream",
          "text": [
            "/usr/local/lib/python3.6/dist-packages/statsmodels/tools/_testing.py:19: FutureWarning:\n",
            "\n",
            "pandas.util.testing is deprecated. Use the functions in the public API at pandas.testing instead.\n",
            "\n"
          ],
          "name": "stderr"
        }
      ]
    },
    {
      "cell_type": "code",
      "metadata": {
        "id": "rjnkqEJzRjtC",
        "colab": {
          "base_uri": "https://localhost:8080/",
          "height": 415
        },
        "outputId": "5e1ba6b2-700f-4d71-f04d-db5bbc05d8d1"
      },
      "source": [
        "# Read the stock data file\n",
        "stocks_df = pd.read_csv('/content/drive/My Drive/Colab Notebooks/Python & ML in Finance/Part 2. Financial Analysis in Python/stock.csv')\n",
        "stocks_df"
      ],
      "execution_count": null,
      "outputs": [
        {
          "output_type": "execute_result",
          "data": {
            "text/html": [
              "<div>\n",
              "<style scoped>\n",
              "    .dataframe tbody tr th:only-of-type {\n",
              "        vertical-align: middle;\n",
              "    }\n",
              "\n",
              "    .dataframe tbody tr th {\n",
              "        vertical-align: top;\n",
              "    }\n",
              "\n",
              "    .dataframe thead th {\n",
              "        text-align: right;\n",
              "    }\n",
              "</style>\n",
              "<table border=\"1\" class=\"dataframe\">\n",
              "  <thead>\n",
              "    <tr style=\"text-align: right;\">\n",
              "      <th></th>\n",
              "      <th>Date</th>\n",
              "      <th>AAPL</th>\n",
              "      <th>BA</th>\n",
              "      <th>T</th>\n",
              "      <th>MGM</th>\n",
              "      <th>AMZN</th>\n",
              "      <th>IBM</th>\n",
              "      <th>TSLA</th>\n",
              "      <th>GOOG</th>\n",
              "      <th>sp500</th>\n",
              "    </tr>\n",
              "  </thead>\n",
              "  <tbody>\n",
              "    <tr>\n",
              "      <th>0</th>\n",
              "      <td>2012-01-12</td>\n",
              "      <td>60.198570</td>\n",
              "      <td>75.510002</td>\n",
              "      <td>30.120001</td>\n",
              "      <td>12.130000</td>\n",
              "      <td>175.929993</td>\n",
              "      <td>180.550003</td>\n",
              "      <td>28.250000</td>\n",
              "      <td>313.644379</td>\n",
              "      <td>1295.500000</td>\n",
              "    </tr>\n",
              "    <tr>\n",
              "      <th>1</th>\n",
              "      <td>2012-01-13</td>\n",
              "      <td>59.972858</td>\n",
              "      <td>74.599998</td>\n",
              "      <td>30.070000</td>\n",
              "      <td>12.350000</td>\n",
              "      <td>178.419998</td>\n",
              "      <td>179.160004</td>\n",
              "      <td>22.790001</td>\n",
              "      <td>311.328064</td>\n",
              "      <td>1289.089966</td>\n",
              "    </tr>\n",
              "    <tr>\n",
              "      <th>2</th>\n",
              "      <td>2012-01-17</td>\n",
              "      <td>60.671429</td>\n",
              "      <td>75.239998</td>\n",
              "      <td>30.250000</td>\n",
              "      <td>12.250000</td>\n",
              "      <td>181.660004</td>\n",
              "      <td>180.000000</td>\n",
              "      <td>26.600000</td>\n",
              "      <td>313.116364</td>\n",
              "      <td>1293.670044</td>\n",
              "    </tr>\n",
              "    <tr>\n",
              "      <th>3</th>\n",
              "      <td>2012-01-18</td>\n",
              "      <td>61.301430</td>\n",
              "      <td>75.059998</td>\n",
              "      <td>30.330000</td>\n",
              "      <td>12.730000</td>\n",
              "      <td>189.440002</td>\n",
              "      <td>181.070007</td>\n",
              "      <td>26.809999</td>\n",
              "      <td>315.273285</td>\n",
              "      <td>1308.040039</td>\n",
              "    </tr>\n",
              "    <tr>\n",
              "      <th>4</th>\n",
              "      <td>2012-01-19</td>\n",
              "      <td>61.107143</td>\n",
              "      <td>75.559998</td>\n",
              "      <td>30.420000</td>\n",
              "      <td>12.800000</td>\n",
              "      <td>194.449997</td>\n",
              "      <td>180.520004</td>\n",
              "      <td>26.760000</td>\n",
              "      <td>318.590851</td>\n",
              "      <td>1314.500000</td>\n",
              "    </tr>\n",
              "    <tr>\n",
              "      <th>...</th>\n",
              "      <td>...</td>\n",
              "      <td>...</td>\n",
              "      <td>...</td>\n",
              "      <td>...</td>\n",
              "      <td>...</td>\n",
              "      <td>...</td>\n",
              "      <td>...</td>\n",
              "      <td>...</td>\n",
              "      <td>...</td>\n",
              "      <td>...</td>\n",
              "    </tr>\n",
              "    <tr>\n",
              "      <th>2154</th>\n",
              "      <td>2020-08-05</td>\n",
              "      <td>440.250000</td>\n",
              "      <td>174.279999</td>\n",
              "      <td>29.850000</td>\n",
              "      <td>16.719999</td>\n",
              "      <td>3205.030029</td>\n",
              "      <td>125.449997</td>\n",
              "      <td>1485.020020</td>\n",
              "      <td>1473.609985</td>\n",
              "      <td>3327.770020</td>\n",
              "    </tr>\n",
              "    <tr>\n",
              "      <th>2155</th>\n",
              "      <td>2020-08-06</td>\n",
              "      <td>455.609985</td>\n",
              "      <td>172.199997</td>\n",
              "      <td>29.840000</td>\n",
              "      <td>18.459999</td>\n",
              "      <td>3225.000000</td>\n",
              "      <td>126.120003</td>\n",
              "      <td>1489.579956</td>\n",
              "      <td>1500.099976</td>\n",
              "      <td>3349.159912</td>\n",
              "    </tr>\n",
              "    <tr>\n",
              "      <th>2156</th>\n",
              "      <td>2020-08-07</td>\n",
              "      <td>444.450012</td>\n",
              "      <td>170.020004</td>\n",
              "      <td>30.020000</td>\n",
              "      <td>19.030001</td>\n",
              "      <td>3167.459961</td>\n",
              "      <td>124.959999</td>\n",
              "      <td>1452.709961</td>\n",
              "      <td>1494.489990</td>\n",
              "      <td>3351.280029</td>\n",
              "    </tr>\n",
              "    <tr>\n",
              "      <th>2157</th>\n",
              "      <td>2020-08-10</td>\n",
              "      <td>450.910004</td>\n",
              "      <td>179.410004</td>\n",
              "      <td>30.200001</td>\n",
              "      <td>21.650000</td>\n",
              "      <td>3148.159912</td>\n",
              "      <td>127.110001</td>\n",
              "      <td>1418.569946</td>\n",
              "      <td>1496.099976</td>\n",
              "      <td>3360.469971</td>\n",
              "    </tr>\n",
              "    <tr>\n",
              "      <th>2158</th>\n",
              "      <td>2020-08-11</td>\n",
              "      <td>437.500000</td>\n",
              "      <td>180.130005</td>\n",
              "      <td>30.200001</td>\n",
              "      <td>21.500000</td>\n",
              "      <td>3080.669922</td>\n",
              "      <td>126.750000</td>\n",
              "      <td>1374.390015</td>\n",
              "      <td>1480.319946</td>\n",
              "      <td>3333.689941</td>\n",
              "    </tr>\n",
              "  </tbody>\n",
              "</table>\n",
              "<p>2159 rows × 10 columns</p>\n",
              "</div>"
            ],
            "text/plain": [
              "            Date        AAPL          BA  ...         TSLA         GOOG        sp500\n",
              "0     2012-01-12   60.198570   75.510002  ...    28.250000   313.644379  1295.500000\n",
              "1     2012-01-13   59.972858   74.599998  ...    22.790001   311.328064  1289.089966\n",
              "2     2012-01-17   60.671429   75.239998  ...    26.600000   313.116364  1293.670044\n",
              "3     2012-01-18   61.301430   75.059998  ...    26.809999   315.273285  1308.040039\n",
              "4     2012-01-19   61.107143   75.559998  ...    26.760000   318.590851  1314.500000\n",
              "...          ...         ...         ...  ...          ...          ...          ...\n",
              "2154  2020-08-05  440.250000  174.279999  ...  1485.020020  1473.609985  3327.770020\n",
              "2155  2020-08-06  455.609985  172.199997  ...  1489.579956  1500.099976  3349.159912\n",
              "2156  2020-08-07  444.450012  170.020004  ...  1452.709961  1494.489990  3351.280029\n",
              "2157  2020-08-10  450.910004  179.410004  ...  1418.569946  1496.099976  3360.469971\n",
              "2158  2020-08-11  437.500000  180.130005  ...  1374.390015  1480.319946  3333.689941\n",
              "\n",
              "[2159 rows x 10 columns]"
            ]
          },
          "metadata": {
            "tags": []
          },
          "execution_count": 14
        }
      ]
    },
    {
      "cell_type": "code",
      "metadata": {
        "id": "O-iq0rQVRysa",
        "colab": {
          "base_uri": "https://localhost:8080/",
          "height": 415
        },
        "outputId": "a640c031-0201-44bf-98bf-387a53420e1f"
      },
      "source": [
        "# Sort the data based on Date\n",
        "stocks_df = stocks_df.sort_values(by = ['Date'])\n",
        "stocks_df"
      ],
      "execution_count": null,
      "outputs": [
        {
          "output_type": "execute_result",
          "data": {
            "text/html": [
              "<div>\n",
              "<style scoped>\n",
              "    .dataframe tbody tr th:only-of-type {\n",
              "        vertical-align: middle;\n",
              "    }\n",
              "\n",
              "    .dataframe tbody tr th {\n",
              "        vertical-align: top;\n",
              "    }\n",
              "\n",
              "    .dataframe thead th {\n",
              "        text-align: right;\n",
              "    }\n",
              "</style>\n",
              "<table border=\"1\" class=\"dataframe\">\n",
              "  <thead>\n",
              "    <tr style=\"text-align: right;\">\n",
              "      <th></th>\n",
              "      <th>Date</th>\n",
              "      <th>AAPL</th>\n",
              "      <th>BA</th>\n",
              "      <th>T</th>\n",
              "      <th>MGM</th>\n",
              "      <th>AMZN</th>\n",
              "      <th>IBM</th>\n",
              "      <th>TSLA</th>\n",
              "      <th>GOOG</th>\n",
              "      <th>sp500</th>\n",
              "    </tr>\n",
              "  </thead>\n",
              "  <tbody>\n",
              "    <tr>\n",
              "      <th>0</th>\n",
              "      <td>2012-01-12</td>\n",
              "      <td>60.198570</td>\n",
              "      <td>75.510002</td>\n",
              "      <td>30.120001</td>\n",
              "      <td>12.130000</td>\n",
              "      <td>175.929993</td>\n",
              "      <td>180.550003</td>\n",
              "      <td>28.250000</td>\n",
              "      <td>313.644379</td>\n",
              "      <td>1295.500000</td>\n",
              "    </tr>\n",
              "    <tr>\n",
              "      <th>1</th>\n",
              "      <td>2012-01-13</td>\n",
              "      <td>59.972858</td>\n",
              "      <td>74.599998</td>\n",
              "      <td>30.070000</td>\n",
              "      <td>12.350000</td>\n",
              "      <td>178.419998</td>\n",
              "      <td>179.160004</td>\n",
              "      <td>22.790001</td>\n",
              "      <td>311.328064</td>\n",
              "      <td>1289.089966</td>\n",
              "    </tr>\n",
              "    <tr>\n",
              "      <th>2</th>\n",
              "      <td>2012-01-17</td>\n",
              "      <td>60.671429</td>\n",
              "      <td>75.239998</td>\n",
              "      <td>30.250000</td>\n",
              "      <td>12.250000</td>\n",
              "      <td>181.660004</td>\n",
              "      <td>180.000000</td>\n",
              "      <td>26.600000</td>\n",
              "      <td>313.116364</td>\n",
              "      <td>1293.670044</td>\n",
              "    </tr>\n",
              "    <tr>\n",
              "      <th>3</th>\n",
              "      <td>2012-01-18</td>\n",
              "      <td>61.301430</td>\n",
              "      <td>75.059998</td>\n",
              "      <td>30.330000</td>\n",
              "      <td>12.730000</td>\n",
              "      <td>189.440002</td>\n",
              "      <td>181.070007</td>\n",
              "      <td>26.809999</td>\n",
              "      <td>315.273285</td>\n",
              "      <td>1308.040039</td>\n",
              "    </tr>\n",
              "    <tr>\n",
              "      <th>4</th>\n",
              "      <td>2012-01-19</td>\n",
              "      <td>61.107143</td>\n",
              "      <td>75.559998</td>\n",
              "      <td>30.420000</td>\n",
              "      <td>12.800000</td>\n",
              "      <td>194.449997</td>\n",
              "      <td>180.520004</td>\n",
              "      <td>26.760000</td>\n",
              "      <td>318.590851</td>\n",
              "      <td>1314.500000</td>\n",
              "    </tr>\n",
              "    <tr>\n",
              "      <th>...</th>\n",
              "      <td>...</td>\n",
              "      <td>...</td>\n",
              "      <td>...</td>\n",
              "      <td>...</td>\n",
              "      <td>...</td>\n",
              "      <td>...</td>\n",
              "      <td>...</td>\n",
              "      <td>...</td>\n",
              "      <td>...</td>\n",
              "      <td>...</td>\n",
              "    </tr>\n",
              "    <tr>\n",
              "      <th>2154</th>\n",
              "      <td>2020-08-05</td>\n",
              "      <td>440.250000</td>\n",
              "      <td>174.279999</td>\n",
              "      <td>29.850000</td>\n",
              "      <td>16.719999</td>\n",
              "      <td>3205.030029</td>\n",
              "      <td>125.449997</td>\n",
              "      <td>1485.020020</td>\n",
              "      <td>1473.609985</td>\n",
              "      <td>3327.770020</td>\n",
              "    </tr>\n",
              "    <tr>\n",
              "      <th>2155</th>\n",
              "      <td>2020-08-06</td>\n",
              "      <td>455.609985</td>\n",
              "      <td>172.199997</td>\n",
              "      <td>29.840000</td>\n",
              "      <td>18.459999</td>\n",
              "      <td>3225.000000</td>\n",
              "      <td>126.120003</td>\n",
              "      <td>1489.579956</td>\n",
              "      <td>1500.099976</td>\n",
              "      <td>3349.159912</td>\n",
              "    </tr>\n",
              "    <tr>\n",
              "      <th>2156</th>\n",
              "      <td>2020-08-07</td>\n",
              "      <td>444.450012</td>\n",
              "      <td>170.020004</td>\n",
              "      <td>30.020000</td>\n",
              "      <td>19.030001</td>\n",
              "      <td>3167.459961</td>\n",
              "      <td>124.959999</td>\n",
              "      <td>1452.709961</td>\n",
              "      <td>1494.489990</td>\n",
              "      <td>3351.280029</td>\n",
              "    </tr>\n",
              "    <tr>\n",
              "      <th>2157</th>\n",
              "      <td>2020-08-10</td>\n",
              "      <td>450.910004</td>\n",
              "      <td>179.410004</td>\n",
              "      <td>30.200001</td>\n",
              "      <td>21.650000</td>\n",
              "      <td>3148.159912</td>\n",
              "      <td>127.110001</td>\n",
              "      <td>1418.569946</td>\n",
              "      <td>1496.099976</td>\n",
              "      <td>3360.469971</td>\n",
              "    </tr>\n",
              "    <tr>\n",
              "      <th>2158</th>\n",
              "      <td>2020-08-11</td>\n",
              "      <td>437.500000</td>\n",
              "      <td>180.130005</td>\n",
              "      <td>30.200001</td>\n",
              "      <td>21.500000</td>\n",
              "      <td>3080.669922</td>\n",
              "      <td>126.750000</td>\n",
              "      <td>1374.390015</td>\n",
              "      <td>1480.319946</td>\n",
              "      <td>3333.689941</td>\n",
              "    </tr>\n",
              "  </tbody>\n",
              "</table>\n",
              "<p>2159 rows × 10 columns</p>\n",
              "</div>"
            ],
            "text/plain": [
              "            Date        AAPL          BA  ...         TSLA         GOOG        sp500\n",
              "0     2012-01-12   60.198570   75.510002  ...    28.250000   313.644379  1295.500000\n",
              "1     2012-01-13   59.972858   74.599998  ...    22.790001   311.328064  1289.089966\n",
              "2     2012-01-17   60.671429   75.239998  ...    26.600000   313.116364  1293.670044\n",
              "3     2012-01-18   61.301430   75.059998  ...    26.809999   315.273285  1308.040039\n",
              "4     2012-01-19   61.107143   75.559998  ...    26.760000   318.590851  1314.500000\n",
              "...          ...         ...         ...  ...          ...          ...          ...\n",
              "2154  2020-08-05  440.250000  174.279999  ...  1485.020020  1473.609985  3327.770020\n",
              "2155  2020-08-06  455.609985  172.199997  ...  1489.579956  1500.099976  3349.159912\n",
              "2156  2020-08-07  444.450012  170.020004  ...  1452.709961  1494.489990  3351.280029\n",
              "2157  2020-08-10  450.910004  179.410004  ...  1418.569946  1496.099976  3360.469971\n",
              "2158  2020-08-11  437.500000  180.130005  ...  1374.390015  1480.319946  3333.689941\n",
              "\n",
              "[2159 rows x 10 columns]"
            ]
          },
          "metadata": {
            "tags": []
          },
          "execution_count": 15
        }
      ]
    },
    {
      "cell_type": "code",
      "metadata": {
        "id": "329hiIB9SUN_"
      },
      "source": [
        "# Function to normalize the prices based on the initial price\n",
        "def normalize(df):\n",
        "  x = df.copy()\n",
        "  for i in x.columns[1:]:\n",
        "    x[i] = x[i]/x[i][0]\n",
        "  return x"
      ],
      "execution_count": null,
      "outputs": []
    },
    {
      "cell_type": "markdown",
      "metadata": {
        "id": "xFn-qwFhUIZk"
      },
      "source": [
        "# TASK #3: CALCULATE DAILY RETURNS"
      ]
    },
    {
      "cell_type": "code",
      "metadata": {
        "id": "RY-Ud9rLSUfs"
      },
      "source": [
        "# Function to calculate the daily returns\n",
        "def daily_return(df):\n",
        "\n",
        "  df_daily_return = df.copy()\n",
        "\n",
        "  # Loop through each stock\n",
        "  for i in df.columns[1:]:\n",
        "\n",
        "    # Loop through each row belonging to the stock\n",
        "    for j in range(1, len(df)):\n",
        "\n",
        "      # Calculate the percentage of change from the previous day\n",
        "      df_daily_return[i][j] = ((df[i][j]- df[i][j-1])/df[i][j-1]) * 100\n",
        "\n",
        "    # set the value of first row to zero, as previous value is not available\n",
        "    df_daily_return[i][0] = 0\n",
        "  return df_daily_return"
      ],
      "execution_count": null,
      "outputs": []
    },
    {
      "cell_type": "code",
      "metadata": {
        "id": "SRVAKDHKUO4_",
        "colab": {
          "base_uri": "https://localhost:8080/",
          "height": 415
        },
        "outputId": "b9235959-58e4-4d69-927a-dfaf1b358792"
      },
      "source": [
        "# Get the daily returns\n",
        "stocks_daily_return = daily_return(stocks_df)\n",
        "stocks_daily_return"
      ],
      "execution_count": null,
      "outputs": [
        {
          "output_type": "execute_result",
          "data": {
            "text/html": [
              "<div>\n",
              "<style scoped>\n",
              "    .dataframe tbody tr th:only-of-type {\n",
              "        vertical-align: middle;\n",
              "    }\n",
              "\n",
              "    .dataframe tbody tr th {\n",
              "        vertical-align: top;\n",
              "    }\n",
              "\n",
              "    .dataframe thead th {\n",
              "        text-align: right;\n",
              "    }\n",
              "</style>\n",
              "<table border=\"1\" class=\"dataframe\">\n",
              "  <thead>\n",
              "    <tr style=\"text-align: right;\">\n",
              "      <th></th>\n",
              "      <th>Date</th>\n",
              "      <th>AAPL</th>\n",
              "      <th>BA</th>\n",
              "      <th>T</th>\n",
              "      <th>MGM</th>\n",
              "      <th>AMZN</th>\n",
              "      <th>IBM</th>\n",
              "      <th>TSLA</th>\n",
              "      <th>GOOG</th>\n",
              "      <th>sp500</th>\n",
              "    </tr>\n",
              "  </thead>\n",
              "  <tbody>\n",
              "    <tr>\n",
              "      <th>0</th>\n",
              "      <td>2012-01-12</td>\n",
              "      <td>0.000000</td>\n",
              "      <td>0.000000</td>\n",
              "      <td>0.000000</td>\n",
              "      <td>0.000000</td>\n",
              "      <td>0.000000</td>\n",
              "      <td>0.000000</td>\n",
              "      <td>0.000000</td>\n",
              "      <td>0.000000</td>\n",
              "      <td>0.000000</td>\n",
              "    </tr>\n",
              "    <tr>\n",
              "      <th>1</th>\n",
              "      <td>2012-01-13</td>\n",
              "      <td>-0.374946</td>\n",
              "      <td>-1.205144</td>\n",
              "      <td>-0.166006</td>\n",
              "      <td>1.813685</td>\n",
              "      <td>1.415339</td>\n",
              "      <td>-0.769869</td>\n",
              "      <td>-19.327430</td>\n",
              "      <td>-0.738516</td>\n",
              "      <td>-0.494792</td>\n",
              "    </tr>\n",
              "    <tr>\n",
              "      <th>2</th>\n",
              "      <td>2012-01-17</td>\n",
              "      <td>1.164812</td>\n",
              "      <td>0.857909</td>\n",
              "      <td>0.598603</td>\n",
              "      <td>-0.809717</td>\n",
              "      <td>1.815943</td>\n",
              "      <td>0.468852</td>\n",
              "      <td>16.717854</td>\n",
              "      <td>0.574410</td>\n",
              "      <td>0.355295</td>\n",
              "    </tr>\n",
              "    <tr>\n",
              "      <th>3</th>\n",
              "      <td>2012-01-18</td>\n",
              "      <td>1.038382</td>\n",
              "      <td>-0.239234</td>\n",
              "      <td>0.264463</td>\n",
              "      <td>3.918367</td>\n",
              "      <td>4.282725</td>\n",
              "      <td>0.594448</td>\n",
              "      <td>0.789470</td>\n",
              "      <td>0.688856</td>\n",
              "      <td>1.110793</td>\n",
              "    </tr>\n",
              "    <tr>\n",
              "      <th>4</th>\n",
              "      <td>2012-01-19</td>\n",
              "      <td>-0.316937</td>\n",
              "      <td>0.666134</td>\n",
              "      <td>0.296736</td>\n",
              "      <td>0.549882</td>\n",
              "      <td>2.644634</td>\n",
              "      <td>-0.303752</td>\n",
              "      <td>-0.186494</td>\n",
              "      <td>1.052283</td>\n",
              "      <td>0.493866</td>\n",
              "    </tr>\n",
              "    <tr>\n",
              "      <th>...</th>\n",
              "      <td>...</td>\n",
              "      <td>...</td>\n",
              "      <td>...</td>\n",
              "      <td>...</td>\n",
              "      <td>...</td>\n",
              "      <td>...</td>\n",
              "      <td>...</td>\n",
              "      <td>...</td>\n",
              "      <td>...</td>\n",
              "      <td>...</td>\n",
              "    </tr>\n",
              "    <tr>\n",
              "      <th>2154</th>\n",
              "      <td>2020-08-05</td>\n",
              "      <td>0.362467</td>\n",
              "      <td>5.579446</td>\n",
              "      <td>-0.533156</td>\n",
              "      <td>0.000000</td>\n",
              "      <td>2.109065</td>\n",
              "      <td>-0.309917</td>\n",
              "      <td>-0.133153</td>\n",
              "      <td>0.589774</td>\n",
              "      <td>0.642974</td>\n",
              "    </tr>\n",
              "    <tr>\n",
              "      <th>2155</th>\n",
              "      <td>2020-08-06</td>\n",
              "      <td>3.488923</td>\n",
              "      <td>-1.193483</td>\n",
              "      <td>-0.033501</td>\n",
              "      <td>10.406699</td>\n",
              "      <td>0.623082</td>\n",
              "      <td>0.534082</td>\n",
              "      <td>0.307062</td>\n",
              "      <td>1.797626</td>\n",
              "      <td>0.642770</td>\n",
              "    </tr>\n",
              "    <tr>\n",
              "      <th>2156</th>\n",
              "      <td>2020-08-07</td>\n",
              "      <td>-2.449458</td>\n",
              "      <td>-1.265966</td>\n",
              "      <td>0.603217</td>\n",
              "      <td>3.087768</td>\n",
              "      <td>-1.784187</td>\n",
              "      <td>-0.919762</td>\n",
              "      <td>-2.475194</td>\n",
              "      <td>-0.373974</td>\n",
              "      <td>0.063303</td>\n",
              "    </tr>\n",
              "    <tr>\n",
              "      <th>2157</th>\n",
              "      <td>2020-08-10</td>\n",
              "      <td>1.453480</td>\n",
              "      <td>5.522880</td>\n",
              "      <td>0.599604</td>\n",
              "      <td>13.767729</td>\n",
              "      <td>-0.609323</td>\n",
              "      <td>1.720552</td>\n",
              "      <td>-2.350092</td>\n",
              "      <td>0.107728</td>\n",
              "      <td>0.274222</td>\n",
              "    </tr>\n",
              "    <tr>\n",
              "      <th>2158</th>\n",
              "      <td>2020-08-11</td>\n",
              "      <td>-2.973987</td>\n",
              "      <td>0.401316</td>\n",
              "      <td>0.000000</td>\n",
              "      <td>-0.692841</td>\n",
              "      <td>-2.143792</td>\n",
              "      <td>-0.283220</td>\n",
              "      <td>-3.114399</td>\n",
              "      <td>-1.054744</td>\n",
              "      <td>-0.796913</td>\n",
              "    </tr>\n",
              "  </tbody>\n",
              "</table>\n",
              "<p>2159 rows × 10 columns</p>\n",
              "</div>"
            ],
            "text/plain": [
              "            Date      AAPL        BA  ...       TSLA      GOOG     sp500\n",
              "0     2012-01-12  0.000000  0.000000  ...   0.000000  0.000000  0.000000\n",
              "1     2012-01-13 -0.374946 -1.205144  ... -19.327430 -0.738516 -0.494792\n",
              "2     2012-01-17  1.164812  0.857909  ...  16.717854  0.574410  0.355295\n",
              "3     2012-01-18  1.038382 -0.239234  ...   0.789470  0.688856  1.110793\n",
              "4     2012-01-19 -0.316937  0.666134  ...  -0.186494  1.052283  0.493866\n",
              "...          ...       ...       ...  ...        ...       ...       ...\n",
              "2154  2020-08-05  0.362467  5.579446  ...  -0.133153  0.589774  0.642974\n",
              "2155  2020-08-06  3.488923 -1.193483  ...   0.307062  1.797626  0.642770\n",
              "2156  2020-08-07 -2.449458 -1.265966  ...  -2.475194 -0.373974  0.063303\n",
              "2157  2020-08-10  1.453480  5.522880  ...  -2.350092  0.107728  0.274222\n",
              "2158  2020-08-11 -2.973987  0.401316  ...  -3.114399 -1.054744 -0.796913\n",
              "\n",
              "[2159 rows x 10 columns]"
            ]
          },
          "metadata": {
            "tags": []
          },
          "execution_count": 67
        }
      ]
    },
    {
      "cell_type": "markdown",
      "metadata": {
        "id": "CF3D8GlUp6W0"
      },
      "source": [
        "# TASK #4: CALCULATE BETA FOR A SINGLE STOCK"
      ]
    },
    {
      "cell_type": "code",
      "metadata": {
        "id": "mOU9h77xrQP2",
        "colab": {
          "base_uri": "https://localhost:8080/",
          "height": 225
        },
        "outputId": "c55a814e-c0ca-4e6d-93b3-364fa6677e07"
      },
      "source": [
        "# Select any stock, let's say Apple\n",
        "stocks_daily_return['AAPL']"
      ],
      "execution_count": null,
      "outputs": [
        {
          "output_type": "execute_result",
          "data": {
            "text/plain": [
              "0       0.000000\n",
              "1      -0.374946\n",
              "2       1.164812\n",
              "3       1.038382\n",
              "4      -0.316937\n",
              "          ...   \n",
              "2154    0.362467\n",
              "2155    3.488923\n",
              "2156   -2.449458\n",
              "2157    1.453480\n",
              "2158   -2.973987\n",
              "Name: AAPL, Length: 2159, dtype: float64"
            ]
          },
          "metadata": {
            "tags": []
          },
          "execution_count": 45
        }
      ]
    },
    {
      "cell_type": "code",
      "metadata": {
        "id": "rUL6HpbQq20e",
        "colab": {
          "base_uri": "https://localhost:8080/",
          "height": 225
        },
        "outputId": "dc7ac97b-e923-40ac-9af3-52332bc9222b"
      },
      "source": [
        "# Select the S&P500 (Market)\n",
        "stocks_daily_return['sp500']"
      ],
      "execution_count": null,
      "outputs": [
        {
          "output_type": "execute_result",
          "data": {
            "text/plain": [
              "0       0.000000\n",
              "1      -0.494792\n",
              "2       0.355295\n",
              "3       1.110793\n",
              "4       0.493866\n",
              "          ...   \n",
              "2154    0.642974\n",
              "2155    0.642770\n",
              "2156    0.063303\n",
              "2157    0.274222\n",
              "2158   -0.796913\n",
              "Name: sp500, Length: 2159, dtype: float64"
            ]
          },
          "metadata": {
            "tags": []
          },
          "execution_count": 46
        }
      ]
    },
    {
      "cell_type": "code",
      "metadata": {
        "id": "h82k_tNZqhaj",
        "colab": {
          "base_uri": "https://localhost:8080/",
          "height": 297
        },
        "outputId": "f4ebcc70-aafb-477e-ca7b-8a4b2d6ed8eb"
      },
      "source": [
        "# plot a scatter plot between the selected stock and the S&P500 (Market)\n",
        "stocks_daily_return.plot(kind = 'scatter', x = 'sp500', y = 'AAPL')"
      ],
      "execution_count": null,
      "outputs": [
        {
          "output_type": "execute_result",
          "data": {
            "text/plain": [
              "<matplotlib.axes._subplots.AxesSubplot at 0x7f71b417cda0>"
            ]
          },
          "metadata": {
            "tags": []
          },
          "execution_count": 58
        },
        {
          "output_type": "display_data",
          "data": {
            "image/png": "[encoded data removed]",
            "text/plain": [
              "<Figure size 432x288 with 1 Axes>"
            ]
          },
          "metadata": {
            "tags": [],
            "needs_background": "light"
          }
        }
      ]
    },
    {
      "cell_type": "code",
      "metadata": {
        "id": "uOh9NTR5rKAO",
        "colab": {
          "base_uri": "https://localhost:8080/",
          "height": 35
        },
        "outputId": "fafa7558-a41f-4311-f8dc-f04246f28e29"
      },
      "source": [
        "# Fit a polynomial between the selected stock and the S&P500 (Poly with order = 1 is a straight line)\n",
        "\n",
        "# beta represents the slope of the line regression line (market return vs. stock return).\n",
        "# Beta is a measure of the volatility or systematic risk of a security or portfolio compared to the entire market (S&P500)\n",
        "# Beta is used in the CAPM and describes the relationship between systematic risk and expected return for assets\n",
        "\n",
        "# Beta = 1.0, this indicates that its price activity is strongly correlated with the market.\n",
        "# Beta < 1, indicates that the security is theoretically less volatile than the market (Ex: Utility stocks). If the stock is included, this will make the portfolio less risky compared to the same portfolio without the stock.\n",
        "# Beta > 1, indicates that the security's price is more volatile than the market. For instance, Tesla stock beta is 1.26 indicating that it's 26% more volatile than the market.\n",
        "# Tech stocks generally have higher betas than S&P500 but they also have excess returns\n",
        "# MGM is 65% more volatile than the S&P500!\n",
        "\n",
        "\n",
        "beta, alpha = np.polyfit(stocks_daily_return['sp500'], stocks_daily_return['AAPL'], 1)\n",
        "print('Beta for {} stock is = {} and alpha is = {}'.format('AAPL', beta, alpha))"
      ],
      "execution_count": null,
      "outputs": [
        {
          "output_type": "stream",
          "text": [
            "Beta for AAPL stock is = 1.1128924148678099 and alpha is = 0.052812084694402864\n"
          ],
          "name": "stdout"
        }
      ]
    },
    {
      "cell_type": "code",
      "metadata": {
        "id": "kLfk0fJ8sKUk",
        "colab": {
          "base_uri": "https://localhost:8080/",
          "height": 297
        },
        "outputId": "32c262d1-7cc3-4121-e756-25c4346ac2d2"
      },
      "source": [
        "# Now let's plot the scatter plot and the straight line on one plot\n",
        "stocks_daily_return.plot(kind = 'scatter', x = 'sp500', y = 'AAPL')\n",
        "\n",
        "# Straight line equation with alpha and beta parameters\n",
        "# Straight line equation is y = beta * rm + alpha\n",
        "plt.plot(stocks_daily_return['sp500'], beta * stocks_daily_return['sp500'] + alpha, '-', color = 'r')\n"
      ],
      "execution_count": null,
      "outputs": [
        {
          "output_type": "execute_result",
          "data": {
            "text/plain": [
              "[<matplotlib.lines.Line2D at 0x7f71b308aef0>]"
            ]
          },
          "metadata": {
            "tags": []
          },
          "execution_count": 115
        },
        {
          "output_type": "display_data",
          "data": {
            "image/png": "[encoded data removed]",
            "text/plain": [
              "<Figure size 432x288 with 1 Axes>"
            ]
          },
          "metadata": {
            "tags": [],
            "needs_background": "light"
          }
        }
      ]
    },
    {
      "cell_type": "markdown",
      "metadata": {
        "id": "R7ojW2776nuY"
      },
      "source": [
        "# TASK #5: APPLY THE CAPM FORMULA TO AN INDIVIDUAL STOCK"
      ]
    },
    {
      "cell_type": "code",
      "metadata": {
        "id": "6MZZaoXP6vvG",
        "colab": {
          "base_uri": "https://localhost:8080/",
          "height": 35
        },
        "outputId": "bf13d64e-7d48-4464-ec8f-f47359f14268"
      },
      "source": [
        "beta"
      ],
      "execution_count": null,
      "outputs": [
        {
          "output_type": "execute_result",
          "data": {
            "text/plain": [
              "1.1128924148678099"
            ]
          },
          "metadata": {
            "tags": []
          },
          "execution_count": 116
        }
      ]
    },
    {
      "cell_type": "code",
      "metadata": {
        "id": "sH1DdoOC1Xw9",
        "colab": {
          "base_uri": "https://localhost:8080/",
          "height": 35
        },
        "outputId": "1ac843c5-2e2a-4edd-f0ee-a0639f56b35b"
      },
      "source": [
        "# Let's calculate the average daily rate of return for S&P500\n",
        "stocks_daily_return['sp500'].mean()"
      ],
      "execution_count": null,
      "outputs": [
        {
          "output_type": "execute_result",
          "data": {
            "text/plain": [
              "0.049316006600389206"
            ]
          },
          "metadata": {
            "tags": []
          },
          "execution_count": 117
        }
      ]
    },
    {
      "cell_type": "code",
      "metadata": {
        "id": "0rVe7WxzAdRn",
        "colab": {
          "base_uri": "https://localhost:8080/",
          "height": 35
        },
        "outputId": "55630959-36c5-4ee6-9750-dad310c77e17"
      },
      "source": [
        "# Let's calculate the annualized rate of return for S&P500\n",
        "# Note that out of 365 days/year, stock exchanges are closed for 104 days during weekend days (Saturday and Sunday)\n",
        "# Check your answers with: https://dqydj.com/sp-500-return-calculator/\n",
        "rm = stocks_daily_return['sp500'].mean() * 252\n",
        "rm"
      ],
      "execution_count": null,
      "outputs": [
        {
          "output_type": "execute_result",
          "data": {
            "text/plain": [
              "12.42763366329808"
            ]
          },
          "metadata": {
            "tags": []
          },
          "execution_count": 118
        }
      ]
    },
    {
      "cell_type": "code",
      "metadata": {
        "id": "TG8awVE5zRL7"
      },
      "source": [
        "# Assume risk free rate is zero\n",
        "# Also you can use the yield of a 10-years U.S. Government bond as a risk free rate\n",
        "rf = 0\n",
        "\n",
        "# Calculate return for any security (APPL) using CAPM\n",
        "ER_AAPL = rf + ( beta * (rm-rf) )"
      ],
      "execution_count": null,
      "outputs": []
    },
    {
      "cell_type": "code",
      "metadata": {
        "id": "TxiWnQ7s1tlZ",
        "colab": {
          "base_uri": "https://localhost:8080/",
          "height": 35
        },
        "outputId": "156f9141-d654-4684-9743-51cbf7d988b2"
      },
      "source": [
        "ER_AAPL"
      ],
      "execution_count": null,
      "outputs": [
        {
          "output_type": "execute_result",
          "data": {
            "text/plain": [
              "13.830619238640287"
            ]
          },
          "metadata": {
            "tags": []
          },
          "execution_count": 120
        }
      ]
    },
    {
      "cell_type": "markdown",
      "metadata": {
        "id": "l0dj0g3IUcau"
      },
      "source": [
        "# TASK #6: CALCULATE BETA FOR ALL STOCKS"
      ]
    },
    {
      "cell_type": "code",
      "metadata": {
        "id": "Qn_95BaLUVMv",
        "colab": {
          "base_uri": "https://localhost:8080/",
          "height": 1000
        },
        "outputId": "c57c6278-46fb-400f-c0c0-c3a87be50dad"
      },
      "source": [
        "# Let's create a placeholder for all betas and alphas (empty dictionaries)\n",
        "beta = {}\n",
        "alpha = {}\n",
        "\n",
        "# Loop on every stock daily return\n",
        "for i in stocks_daily_return.columns:\n",
        "\n",
        "  # Ignoring the date and S&P500 Columns\n",
        "  if i != 'Date' and i != 'sp500':\n",
        "    # plot a scatter plot between each individual stock and the S&P500 (Market)\n",
        "    stocks_daily_return.plot(kind = 'scatter', x = 'sp500', y = i)\n",
        "\n",
        "    # Fit a polynomial between each stock and the S&P500 (Poly with order = 1 is a straight line)\n",
        "    b, a = np.polyfit(stocks_daily_return['sp500'], stocks_daily_return[i], 1)\n",
        "\n",
        "    plt.plot(stocks_daily_return['sp500'], b * stocks_daily_return['sp500'] + a, '-', color = 'r')\n",
        "\n",
        "    beta[i] = b\n",
        "\n",
        "    alpha[i] = a\n",
        "\n",
        "    plt.show()"
      ],
      "execution_count": null,
      "outputs": [
        {
          "output_type": "display_data",
          "data": {
            "image/png": "[encoded data removed]",
            "text/plain": [
              "<Figure size 432x288 with 1 Axes>"
            ]
          },
          "metadata": {
            "tags": [],
            "needs_background": "light"
          }
        },
        {
          "output_type": "display_data",
          "data": {
            "image/png": "[encoded data removed]",
            "text/plain": [
              "<Figure size 432x288 with 1 Axes>"
            ]
          },
          "metadata": {
            "tags": [],
            "needs_background": "light"
          }
        },
        {
          "output_type": "display_data",
          "data": {
            "image/png": "[encoded data removed]",
            "text/plain": [
              "<Figure size 432x288 with 1 Axes>"
            ]
          },
          "metadata": {
            "tags": [],
            "needs_background": "light"
          }
        },
        {
          "output_type": "display_data",
          "data": {
            "image/png": "[encoded data removed]",
            "text/plain": [
              "<Figure size 432x288 with 1 Axes>"
            ]
          },
          "metadata": {
            "tags": [],
            "needs_background": "light"
          }
        },
        {
          "output_type": "display_data",
          "data": {
            "image/png": "[encoded data removed]",
            "text/plain": [
              "<Figure size 432x288 with 1 Axes>"
            ]
          },
          "metadata": {
            "tags": [],
            "needs_background": "light"
          }
        },
        {
          "output_type": "display_data",
          "data": {
            "image/png": "[encoded data removed]",
            "text/plain": [
              "<Figure size 432x288 with 1 Axes>"
            ]
          },
          "metadata": {
            "tags": [],
            "needs_background": "light"
          }
        },
        {
          "output_type": "display_data",
          "data": {
            "image/png": "[encoded data removed]",
            "text/plain": [
              "<Figure size 432x288 with 1 Axes>"
            ]
          },
          "metadata": {
            "tags": [],
            "needs_background": "light"
          }
        },
        {
          "output_type": "display_data",
          "data": {
            "image/png": "[encoded data removed]",
            "text/plain": [
              "<Figure size 432x288 with 1 Axes>"
            ]
          },
          "metadata": {
            "tags": [],
            "needs_background": "light"
          }
        }
      ]
    },
    {
      "cell_type": "code",
      "metadata": {
        "id": "AAjtSbnWUkKy",
        "colab": {
          "base_uri": "https://localhost:8080/",
          "height": 156
        },
        "outputId": "27b1ba44-9e9d-4988-89a0-804298ec5a49"
      },
      "source": [
        "# Let's view Beta for every stock\n",
        "beta"
      ],
      "execution_count": null,
      "outputs": [
        {
          "output_type": "execute_result",
          "data": {
            "text/plain": [
              "{'AAPL': 1.1128924148678099,\n",
              " 'AMZN': 0.9917345712576846,\n",
              " 'BA': 1.3828672010892775,\n",
              " 'GOOG': 1.034881768742856,\n",
              " 'IBM': 0.9604149148095245,\n",
              " 'MGM': 1.653567706518011,\n",
              " 'T': 0.7446293454747844,\n",
              " 'TSLA': 1.2686150101095908}"
            ]
          },
          "metadata": {
            "tags": []
          },
          "execution_count": 125
        }
      ]
    },
    {
      "cell_type": "code",
      "metadata": {
        "id": "nBySQlXUUkMo",
        "colab": {
          "base_uri": "https://localhost:8080/",
          "height": 156
        },
        "outputId": "48c60189-0c9a-457b-b1a4-fc1821788fd4"
      },
      "source": [
        "# Let's view alpha for each of the stocks\n",
        "# Alpha describes the strategy's ability to beat the market (S&P500)\n",
        "# Alpha indicates the “excess return” or “abnormal rate of return,”\n",
        "# A positive 0.175 alpha for Tesla means that the portfolio’s return exceeded the benchmark S&P500 index by 17%.\n",
        "\n",
        "alpha"
      ],
      "execution_count": null,
      "outputs": [
        {
          "output_type": "execute_result",
          "data": {
            "text/plain": [
              "{'AAPL': 0.052812084694402864,\n",
              " 'AMZN': 0.1022139641776522,\n",
              " 'BA': -0.0022906983297531543,\n",
              " 'GOOG': 0.03335558721467005,\n",
              " 'IBM': -0.053454941504451084,\n",
              " 'MGM': -0.016885305520478674,\n",
              " 'T': -0.028563430198461616,\n",
              " 'TSLA': 0.1758349216516583}"
            ]
          },
          "metadata": {
            "tags": []
          },
          "execution_count": 126
        }
      ]
    },
    {
      "cell_type": "markdown",
      "metadata": {
        "id": "-zduPVSdJAzj"
      },
      "source": [
        "# TASK #7: APPLY CAPM FORMULA TO CALCULATE THE RETURN FOR THE PORTFOLIO"
      ]
    },
    {
      "cell_type": "code",
      "metadata": {
        "id": "CLNoqavJUnnd",
        "colab": {
          "base_uri": "https://localhost:8080/",
          "height": 35
        },
        "outputId": "cb41aea5-9206-4bfe-feb4-b296e0b9fd9f"
      },
      "source": [
        "# Obtain a list of all stock names\n",
        "keys = list(beta.keys())\n",
        "keys"
      ],
      "execution_count": null,
      "outputs": [
        {
          "output_type": "execute_result",
          "data": {
            "text/plain": [
              "['AAPL', 'BA', 'T', 'MGM', 'AMZN', 'IBM', 'TSLA', 'GOOG']"
            ]
          },
          "metadata": {
            "tags": []
          },
          "execution_count": 151
        }
      ]
    },
    {
      "cell_type": "code",
      "metadata": {
        "id": "HaUIVAFnKPQt",
        "colab": {
          "base_uri": "https://localhost:8080/",
          "height": 35
        },
        "outputId": "c45dc49d-5514-476c-d3c9-0e19e9f30c87"
      },
      "source": [
        "# Define the expected return dictionary\n",
        "ER = {}\n",
        "\n",
        "rf = 0 # assume risk free rate is zero in this case\n",
        "rm = stocks_daily_return['sp500'].mean() * 252 # this is the expected return of the market\n",
        "rm"
      ],
      "execution_count": null,
      "outputs": [
        {
          "output_type": "execute_result",
          "data": {
            "text/plain": [
              "12.42763366329808"
            ]
          },
          "metadata": {
            "tags": []
          },
          "execution_count": 152
        }
      ]
    },
    {
      "cell_type": "code",
      "metadata": {
        "id": "joheLJL0LXi0"
      },
      "source": [
        "for i in keys:\n",
        "  # Calculate return for every security using CAPM\n",
        "  ER[i] = rf + ( beta[i] * (rm-rf) )"
      ],
      "execution_count": null,
      "outputs": []
    },
    {
      "cell_type": "code",
      "metadata": {
        "id": "CRCHlev2UnlJ",
        "colab": {
          "base_uri": "https://localhost:8080/",
          "height": 156
        },
        "outputId": "39a29949-2ec7-45f2-ab28-3e1ce79532d2"
      },
      "source": [
        "for i in keys:\n",
        "  print('Expected Return Based on CAPM for {} is {}%'.format(i, ER[i]))"
      ],
      "execution_count": null,
      "outputs": [
        {
          "output_type": "stream",
          "text": [
            "Expected Return Based on CAPM for AAPL is 13.830619238640287%\n",
            "Expected Return Based on CAPM for BA is 17.1857669801279%\n",
            "Expected Return Based on CAPM for T is 9.253980720502046%\n",
            "Expected Return Based on CAPM for MGM is 20.54993369406583%\n",
            "Expected Return Based on CAPM for AMZN is 12.324913942818489%\n",
            "Expected Return Based on CAPM for IBM is 11.935684726020403%\n",
            "Expected Return Based on CAPM for TSLA is 15.765882605403183%\n",
            "Expected Return Based on CAPM for GOOG is 12.861131506762176%\n"
          ],
          "name": "stdout"
        }
      ]
    },
    {
      "cell_type": "code",
      "metadata": {
        "id": "4-wQS2MNM_lG",
        "colab": {
          "base_uri": "https://localhost:8080/",
          "height": 35
        },
        "outputId": "ff10fba6-9779-4404-d81f-af72b5a35976"
      },
      "source": [
        "# Assume equal weights in the portfolio\n",
        "portfolio_weights = 1/8 * np.ones(8)\n",
        "portfolio_weights"
      ],
      "execution_count": null,
      "outputs": [
        {
          "output_type": "execute_result",
          "data": {
            "text/plain": [
              "array([0.125, 0.125, 0.125, 0.125, 0.125, 0.125, 0.125, 0.125])"
            ]
          },
          "metadata": {
            "tags": []
          },
          "execution_count": 170
        }
      ]
    },
    {
      "cell_type": "code",
      "metadata": {
        "id": "FaJnUuz9NRCD",
        "colab": {
          "base_uri": "https://localhost:8080/",
          "height": 35
        },
        "outputId": "298195e2-2d54-45c2-b8aa-e6efda5f5320"
      },
      "source": [
        "# Calculate the portfolio return\n",
        "ER_portfolio = sum(list(ER.values()) * portfolio_weights)\n",
        "ER_portfolio"
      ],
      "execution_count": null,
      "outputs": [
        {
          "output_type": "execute_result",
          "data": {
            "text/plain": [
              "14.213489176792537"
            ]
          },
          "metadata": {
            "tags": []
          },
          "execution_count": 174
        }
      ]
    },
    {
      "cell_type": "code",
      "metadata": {
        "id": "tZYItWv1Utb8",
        "colab": {
          "base_uri": "https://localhost:8080/",
          "height": 52
        },
        "outputId": "4f139c12-9089-40b8-dc7f-bc29e6f958c3"
      },
      "source": [
        "print('Expected Return Based on CAPM for the portfolio is {}%\\n'.format(ER_portfolio))"
      ],
      "execution_count": null,
      "outputs": [
        {
          "output_type": "stream",
          "text": [
            "Expected Return Based on CAPM for the portfolio is 14.213489176792537%\n",
            "\n"
          ],
          "name": "stdout"
        }
      ]
    }
  ]
}